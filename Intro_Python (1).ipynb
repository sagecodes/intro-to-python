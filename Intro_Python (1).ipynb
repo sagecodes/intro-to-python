{
  "nbformat": 4,
  "nbformat_minor": 0,
  "metadata": {
    "colab": {
      "name": "Intro-Python.ipynb",
      "provenance": [],
      "collapsed_sections": [
        "a686NzkEkTtC"
      ]
    },
    "kernelspec": {
      "name": "python3",
      "display_name": "Python 3"
    }
  },
  "cells": [
    {
      "cell_type": "markdown",
      "metadata": {
        "id": "kyQMUuU3sEpm",
        "colab_type": "text"
      },
      "source": [
        "# Learn to Code: Introduction to Python\n",
        "\n",
        "Brought to you by Galvanize. Learn more about the way we teach at [galvanize.com](http://galvanize.com).\n",
        "\n",
        "\n",
        "Learn more Python and much more with Galvanize Data Science Premium Prep! Currently free if you sign up now! [http://bit.ly/2u0cahU](http://bit.ly/2u0cahU)"
      ]
    },
    {
      "cell_type": "markdown",
      "metadata": {
        "id": "gQPACcbOUP0p",
        "colab_type": "text"
      },
      "source": [
        "### Comments"
      ]
    },
    {
      "cell_type": "code",
      "metadata": {
        "id": "c3ioanX3UTV7",
        "colab_type": "code",
        "colab": {}
      },
      "source": [
        "# This is a comment. It will not do anything as code\n",
        "# But it is super useful to document what your code is doing!"
      ],
      "execution_count": 0,
      "outputs": []
    },
    {
      "cell_type": "markdown",
      "metadata": {
        "id": "kqv7z30_Tjfc",
        "colab_type": "text"
      },
      "source": [
        "### Printing"
      ]
    },
    {
      "cell_type": "code",
      "metadata": {
        "id": "mQzqQ7RxTAbE",
        "colab_type": "code",
        "outputId": "c27df86f-5ac5-452c-fab6-399a822b793e",
        "colab": {
          "base_uri": "https://localhost:8080/",
          "height": 35
        }
      },
      "source": [
        "# Printing an output in python\n",
        "\n",
        "print(\"Hello, Sage\")"
      ],
      "execution_count": 37,
      "outputs": [
        {
          "output_type": "stream",
          "text": [
            "Hello, Sage\n"
          ],
          "name": "stdout"
        }
      ]
    },
    {
      "cell_type": "markdown",
      "metadata": {
        "id": "oxwgisrITuSN",
        "colab_type": "text"
      },
      "source": [
        "### Variables\n",
        "\n",
        "Variables are a way to store information. This is super useful! You can then receive or update the variable in your program. You'll see this later!\n",
        "\n",
        "Think of it as naming a piece of data.\n",
        "\n",
        "its common in programming languages to have a keyword before the variable such as var or int, but python does not need this."
      ]
    },
    {
      "cell_type": "code",
      "metadata": {
        "id": "zBapGTEQTwTz",
        "colab_type": "code",
        "colab": {}
      },
      "source": [
        "twitter = \"@sagecodes\"\n",
        "score = 0\n",
        "\n",
        "print(score)"
      ],
      "execution_count": 0,
      "outputs": []
    },
    {
      "cell_type": "markdown",
      "metadata": {
        "id": "3EG06J0GUC15",
        "colab_type": "text"
      },
      "source": [
        "#### Challenge:\n",
        "Create a variable called name and assign it your name. Use the print() function to print out the variable value."
      ]
    },
    {
      "cell_type": "code",
      "metadata": {
        "id": "dJdbUcChUE1g",
        "colab_type": "code",
        "colab": {}
      },
      "source": [
        "# Write you Code Here!\n"
      ],
      "execution_count": 0,
      "outputs": []
    },
    {
      "cell_type": "markdown",
      "metadata": {
        "id": "HnYboIFeruCs",
        "colab_type": "text"
      },
      "source": [
        "## Interact with users\n",
        "\n",
        "Getting input from the command line can be useful.\n",
        "\n",
        "To do that we will use the `input` function. And we want to assign that input to a variable.\n",
        "\n",
        "`guess = input(\"enter guess\")`\n",
        "\n",
        "Print will output text to the terminal\n",
        "\n",
        "```\n",
        "guess = input(\"enter guess: \")\n",
        "print(\"Your guess was {}\".format(guess))\n",
        "```\n",
        "\n"
      ]
    },
    {
      "cell_type": "code",
      "metadata": {
        "id": "ne6TgdETrwZo",
        "colab_type": "code",
        "outputId": "40df1246-66b7-4e7f-be4c-c104e01e65a8",
        "colab": {
          "base_uri": "https://localhost:8080/",
          "height": 52
        }
      },
      "source": [
        "input(\"I'm looking for some input... \")"
      ],
      "execution_count": 39,
      "outputs": [
        {
          "output_type": "stream",
          "text": [
            "I'm looking for some input... hi\n"
          ],
          "name": "stdout"
        },
        {
          "output_type": "execute_result",
          "data": {
            "text/plain": [
              "'hi'"
            ]
          },
          "metadata": {
            "tags": []
          },
          "execution_count": 39
        }
      ]
    },
    {
      "cell_type": "markdown",
      "metadata": {
        "colab_type": "text",
        "id": "X0nSfeB2uJJP"
      },
      "source": [
        "---\n",
        "### Challenge:\n",
        "\n",
        "Create a variable called `name` and ask a user for their name using the `input` function.\n",
        "\n",
        "Print out the name."
      ]
    },
    {
      "cell_type": "code",
      "metadata": {
        "id": "PxFtcjU9r0AW",
        "colab_type": "code",
        "outputId": "010544cc-0d61-45e0-d919-6cb7c5522201",
        "colab": {
          "base_uri": "https://localhost:8080/",
          "height": 52
        }
      },
      "source": [
        "name = input(\"I'm looking for some input... \")\n",
        "print(name)\n"
      ],
      "execution_count": 40,
      "outputs": [
        {
          "output_type": "stream",
          "text": [
            "I'm looking for some input... sage\n",
            "sage\n"
          ],
          "name": "stdout"
        }
      ]
    },
    {
      "cell_type": "markdown",
      "metadata": {
        "id": "9QKo9HPfU6Zj",
        "colab_type": "text"
      },
      "source": [
        "### Data Structures(Data Types):\n",
        "\n",
        "We're going to stick with the basics, so We wont be going over EVERY data type in Python, but you you can read a more comprehensive list [here](https://docs.python.org/3/library/stdtypes.html#dict).  \n",
        "\n",
        "Feel free to try these different data types out in your code!"
      ]
    },
    {
      "cell_type": "markdown",
      "metadata": {
        "id": "OsZZEqV2VlY6",
        "colab_type": "text"
      },
      "source": [
        "#### Numbers:\n",
        "\n",
        "Numbers are written just like you would think. Just the number! No quotes or symbols to worry about. If you do put quotes around a number it will become a string (see next)\n",
        "\n",
        "`25` `100`\n",
        "\n",
        "Multiple, Add, Divide, Compare, remainder\n",
        "\n",
        "- `5 * 5` | output: 25\n",
        "- `5 + 5` | output: 10\n",
        "- `8 / 2` | output: 4\n",
        "- `8 > 2` | output: true\n",
        "- `8 % 8` | output: 0 \n"
      ]
    },
    {
      "cell_type": "code",
      "metadata": {
        "id": "t6OLdoUSVNJw",
        "colab_type": "code",
        "colab": {}
      },
      "source": [
        "print(5 * 5)\n",
        "print(5 + 5)\n",
        "print(5/2)\n",
        "print(8 > 2)\n",
        "print(8 % 8)"
      ],
      "execution_count": 0,
      "outputs": []
    },
    {
      "cell_type": "markdown",
      "metadata": {
        "id": "pwE9BL9hV9KY",
        "colab_type": "text"
      },
      "source": [
        "#### Strings:\n",
        "Strings can be a collection of letters, symbols and/or numbers. They are made by surrounding the content with quotation marks.\n",
        "\n",
        "`\"Hello, World.\"`\n",
        "\n",
        "`\"CrAzy Random String 987879896jvdjvda &&(&(@*(*\"`\n",
        "\n",
        "\n"
      ]
    },
    {
      "cell_type": "code",
      "metadata": {
        "id": "kLDsf4f7V9jo",
        "colab_type": "code",
        "outputId": "c28d66e8-8c0c-4f3f-a3e9-81709b76f173",
        "colab": {
          "base_uri": "https://localhost:8080/",
          "height": 69
        }
      },
      "source": [
        "# common ways of defining a string. \n",
        "# make sure you begin and end with same quotation set\n",
        "\n",
        "singlequote = 'A string in Single quotes!'\n",
        "doublequote = \"A string in Double quotes!\"\n",
        "triplequote = '''A string in ' \" Triple single quotes!'''\n",
        "\n",
        "print(singlequote)\n",
        "print(doublequote)\n",
        "print(triplequote)"
      ],
      "execution_count": 41,
      "outputs": [
        {
          "output_type": "stream",
          "text": [
            "A string in Single quotes!\n",
            "A string in Double quotes!\n",
            "A string in ' \" Triple single quotes!\n"
          ],
          "name": "stdout"
        }
      ]
    },
    {
      "cell_type": "code",
      "metadata": {
        "id": "NQPL2kGAXtqM",
        "colab_type": "code",
        "outputId": "5db8542e-bac7-464c-b3ef-09659b9200a6",
        "colab": {
          "base_uri": "https://localhost:8080/",
          "height": 35
        }
      },
      "source": [
        "\"\"# If you're unsure what data will be in your string\n",
        "# Triple quotes is the safest to use\n",
        "# It will prevent a single or double quotation mark breaking the string\n",
        "\n",
        "triplesafe = '''A string ' in \" Triple single quotes!'''\n",
        "print(triplesafe)"
      ],
      "execution_count": 42,
      "outputs": [
        {
          "output_type": "stream",
          "text": [
            "A string ' in \" Triple single quotes!\n"
          ],
          "name": "stdout"
        }
      ]
    },
    {
      "cell_type": "code",
      "metadata": {
        "id": "oGM_4s3pXDbo",
        "colab_type": "code",
        "outputId": "67f2dcb3-45f8-47c2-a09e-03d8a42b0e60",
        "colab": {
          "base_uri": "https://localhost:8080/",
          "height": 35
        }
      },
      "source": [
        "# Can we add strings together? Try it out!\n",
        "print(singlequote + doublequote)"
      ],
      "execution_count": 43,
      "outputs": [
        {
          "output_type": "stream",
          "text": [
            "A string in Single quotes!A string in Double quotes!\n"
          ],
          "name": "stdout"
        }
      ]
    },
    {
      "cell_type": "markdown",
      "metadata": {
        "id": "b00_QaTCYGqq",
        "colab_type": "text"
      },
      "source": [
        "##### Variables in strings\n",
        "\n",
        "Often we will want to add in variables to a string. \n",
        "\n",
        "Imagine having someones name, age, etc... populate into a string depending on the user.\n",
        "\n",
        "As you'll see below there are several ways of doing this!"
      ]
    },
    {
      "cell_type": "code",
      "metadata": {
        "id": "boBuZPDqYb-S",
        "colab_type": "code",
        "colab": {}
      },
      "source": [
        "# Lets create some variables to work with\n",
        "# Feel Free to change them or create your own!\n",
        "\n",
        "name = \"Alexa\"\n",
        "city = \"Seattle\"\n",
        "career = \"Programmer\"\n",
        "age = 40\n"
      ],
      "execution_count": 0,
      "outputs": []
    },
    {
      "cell_type": "markdown",
      "metadata": {
        "id": "4zg8AYqCarfs",
        "colab_type": "text"
      },
      "source": [
        "##### Concatenation\n",
        "\n",
        "You can add variables into string by breaking up the string into bits and adding a varible in between them. \n",
        "\n",
        "This gets pretty messy really fast. Its harder to change the sentence in the future, you have to add spaces at teh begining or or ends of strings. You have to convert numbers into strings if you want to use them."
      ]
    },
    {
      "cell_type": "code",
      "metadata": {
        "id": "pPDPmu5hZCNZ",
        "colab_type": "code",
        "outputId": "33c4802f-b01a-4cb4-8164-d10afb970809",
        "colab": {
          "base_uri": "https://localhost:8080/",
          "height": 35
        }
      },
      "source": [
        "\n",
        "# concatenation \n",
        "concatstring =  \"Hello, my name is \" + name + \". I am \" + career + \" in \" + city + \". I am \" + str(age) + \" years old.\"\n",
        "\n",
        "print(concatstring)\n",
        "\n"
      ],
      "execution_count": 45,
      "outputs": [
        {
          "output_type": "stream",
          "text": [
            "Hello, my name is Alexa. I am Programmer in Seattle. I am 40 years old.\n"
          ],
          "name": "stdout"
        }
      ]
    },
    {
      "cell_type": "code",
      "metadata": {
        "id": "zOk20gPZYjhj",
        "colab_type": "code",
        "outputId": "a0df28ca-53fa-4416-fa15-100c716e9454",
        "colab": {
          "base_uri": "https://localhost:8080/",
          "height": 35
        }
      },
      "source": [
        "# More common way\n",
        "placeholderstring =  \"Hello, my name is {}. I am a {} in {}. I am {} years old.\".format(name, career, city, age)\n",
        "\n",
        "print(placeholderstring)\n",
        "\n"
      ],
      "execution_count": 46,
      "outputs": [
        {
          "output_type": "stream",
          "text": [
            "Hello, my name is Alexa. I am a Programmer in Seattle. I am 40 years old.\n"
          ],
          "name": "stdout"
        }
      ]
    },
    {
      "cell_type": "code",
      "metadata": {
        "id": "6pQbnGaaZ5UN",
        "colab_type": "code",
        "outputId": "5a21c58e-7ec2-4ebb-dd07-46bd94b67d86",
        "colab": {
          "base_uri": "https://localhost:8080/",
          "height": 35
        }
      },
      "source": [
        "# you can specify which variable is used where\n",
        "placeholderorder =  \"Hello, my name is {2}. I am a {1} in {3}. I am {0} years old.\".format(name, career,city, age)\n",
        "\n",
        "print(placeholderorder)"
      ],
      "execution_count": 47,
      "outputs": [
        {
          "output_type": "stream",
          "text": [
            "Hello, my name is Seattle. I am a Programmer in 40. I am Alexa years old.\n"
          ],
          "name": "stdout"
        }
      ]
    },
    {
      "cell_type": "code",
      "metadata": {
        "id": "qTRoiH9sZ5dZ",
        "colab_type": "code",
        "outputId": "9dd8c813-8697-40a6-f833-ed7f16e116ce",
        "colab": {
          "base_uri": "https://localhost:8080/",
          "height": 35
        }
      },
      "source": [
        "# Fstring\n",
        "# My favorite way!\n",
        "\n",
        "fstring = f\"Hello, my name is {name}. I am a {career} in {city}. I am {age} years old.\"\n",
        "\n",
        "print(fstring)"
      ],
      "execution_count": 48,
      "outputs": [
        {
          "output_type": "stream",
          "text": [
            "Hello, my name is Alexa. I am a Programmer in Seattle. I am 40 years old.\n"
          ],
          "name": "stdout"
        }
      ]
    },
    {
      "cell_type": "markdown",
      "metadata": {
        "id": "kigsnxLHr7yk",
        "colab_type": "text"
      },
      "source": [
        "---\n",
        "### Challenge:\n",
        "\n",
        "Using the `input()` function ask a user for there name. Then print out a sentence using the name. \n"
      ]
    },
    {
      "cell_type": "code",
      "metadata": {
        "id": "KojLpqJdr9lH",
        "colab_type": "code",
        "colab": {}
      },
      "source": [
        "# Write you Code Here!"
      ],
      "execution_count": 0,
      "outputs": []
    },
    {
      "cell_type": "markdown",
      "metadata": {
        "id": "F9SMiWYwdhna",
        "colab_type": "text"
      },
      "source": [
        "#### Booleans:\n",
        "You can think of Booleans as yes(true) and no(false)\n",
        "\n",
        "`True` `False`\n",
        "\n",
        "We'll go into how to use these in a little bit. For now just remember they exist!\n"
      ]
    },
    {
      "cell_type": "markdown",
      "metadata": {
        "id": "HoBPgHysdl5_",
        "colab_type": "text"
      },
      "source": [
        "#### Lists (Arrays)\n",
        "\n",
        "Often used to store a list of values."
      ]
    },
    {
      "cell_type": "code",
      "metadata": {
        "id": "DccibF3vdm4i",
        "colab_type": "code",
        "colab": {}
      },
      "source": [
        "tvshows = ['West World','Mr. Robot', 'Game of Thrones']\n",
        "print(tvshows)"
      ],
      "execution_count": 0,
      "outputs": []
    },
    {
      "cell_type": "code",
      "metadata": {
        "id": "7ClMzUOydseB",
        "colab_type": "code",
        "colab": {}
      },
      "source": [
        "# print single item. Index starts at zero\n",
        "print(tvshows[0])"
      ],
      "execution_count": 0,
      "outputs": []
    },
    {
      "cell_type": "code",
      "metadata": {
        "id": "gVZMIy2bdyEl",
        "colab_type": "code",
        "colab": {}
      },
      "source": [
        "# Update an item in an array\n",
        "print(tvshows[0])\n",
        "tvshows[0] = \"killer robots\"\n",
        "print(tvshows[0])\n",
        "print(tvshows)"
      ],
      "execution_count": 0,
      "outputs": []
    },
    {
      "cell_type": "code",
      "metadata": {
        "id": "nAexCOzad2uw",
        "colab_type": "code",
        "colab": {}
      },
      "source": [
        "# Add to an array\n",
        "tvshows.append(\"FireFly\")\n",
        "print(tvshows)"
      ],
      "execution_count": 0,
      "outputs": []
    },
    {
      "cell_type": "code",
      "metadata": {
        "id": "hXziRupfd60o",
        "colab_type": "code",
        "colab": {}
      },
      "source": [
        "# Remove from an array\n",
        "tvshows.remove(\"Game of Thrones\")\n",
        "print(tvshows)"
      ],
      "execution_count": 0,
      "outputs": []
    },
    {
      "cell_type": "code",
      "metadata": {
        "id": "Tq78SJCDd-_j",
        "colab_type": "code",
        "colab": {}
      },
      "source": [
        "# Or if you want to get rid of a certain part of the list\n",
        "\n",
        "tvshows.remove(tvshows[1])\n",
        "print(tvshows)"
      ],
      "execution_count": 0,
      "outputs": []
    },
    {
      "cell_type": "markdown",
      "metadata": {
        "id": "ZMPgf3AsePWy",
        "colab_type": "text"
      },
      "source": [
        "#### Tuples\n",
        "\n",
        "Tuples behave a lot like lists, except you cannot change the values later in the code like we did in lists.\n",
        "\n",
        "\n"
      ]
    },
    {
      "cell_type": "code",
      "metadata": {
        "id": "xjHaP9LqeT3W",
        "colab_type": "code",
        "colab": {}
      },
      "source": [
        "tupleshows = ('West World','Mr. Robot', 'Game of Thrones')\n",
        "tupleshows.append(\"FireFly\")\n",
        "print(tupleshows)"
      ],
      "execution_count": 0,
      "outputs": []
    },
    {
      "cell_type": "markdown",
      "metadata": {
        "id": "w5WHxKRIeqBg",
        "colab_type": "text"
      },
      "source": [
        "#### Dictionary (Dict)\n",
        "\n",
        "Dictionaries can also be used to store values, but they are indexed. \n",
        "\n"
      ]
    },
    {
      "cell_type": "code",
      "metadata": {
        "id": "9D7nhJ6beqTa",
        "colab_type": "code",
        "colab": {}
      },
      "source": [
        "person =\t{\n",
        "  \"name\": \"Bob\",\n",
        "  \"age\": 50,\n",
        "  \"occupation\": 'programmer'\n",
        "}\n",
        "# print(person)\n",
        "print(person['age'])"
      ],
      "execution_count": 0,
      "outputs": []
    },
    {
      "cell_type": "code",
      "metadata": {
        "id": "pMMKc36meuwk",
        "colab_type": "code",
        "colab": {}
      },
      "source": [
        "# Update\n",
        "print(person['name'])\n",
        "person['name'] = \"Ted\"\n",
        "print(person['name'])"
      ],
      "execution_count": 0,
      "outputs": []
    },
    {
      "cell_type": "code",
      "metadata": {
        "id": "S1tgpL1feycl",
        "colab_type": "code",
        "colab": {}
      },
      "source": [
        "# add \n",
        "person['city'] = 'Seattle'  \n",
        "print(person)"
      ],
      "execution_count": 0,
      "outputs": []
    },
    {
      "cell_type": "code",
      "metadata": {
        "id": "_fy1mRf2e1xR",
        "colab_type": "code",
        "colab": {}
      },
      "source": [
        "# Remove\n",
        "del person['age']\n",
        "print(person)"
      ],
      "execution_count": 0,
      "outputs": []
    },
    {
      "cell_type": "markdown",
      "metadata": {
        "id": "qV_8vpIGe6FX",
        "colab_type": "text"
      },
      "source": [
        "read more about python dictionaries[here](https://www.w3schools.com/python/python_dictionaries.asp)."
      ]
    },
    {
      "cell_type": "markdown",
      "metadata": {
        "id": "OMVAgJ05e-Nk",
        "colab_type": "text"
      },
      "source": [
        "### Lists + Dicts "
      ]
    },
    {
      "cell_type": "code",
      "metadata": {
        "id": "S-Sa2w4xe6YP",
        "colab_type": "code",
        "colab": {}
      },
      "source": [
        "# Access a dict inside a list:\n",
        "\n",
        "lis = [{'a': 1, 'bsss': 2}, {'c': 3, 'd': 4}, {'e': 5, 'f': 6}]\n",
        "print(lis[0]['b'])"
      ],
      "execution_count": 0,
      "outputs": []
    },
    {
      "cell_type": "code",
      "metadata": {
        "id": "zHOKiBR3fGYI",
        "colab_type": "code",
        "colab": {}
      },
      "source": [
        "# Access a list inside of a dict:\n",
        "dict = {'a': 1, 'b': [\"hello\", \"hi\", \"howdy\"]}\n",
        "print(dict['b'][0])"
      ],
      "execution_count": 0,
      "outputs": []
    },
    {
      "cell_type": "code",
      "metadata": {
        "id": "7jnw1BfuvNnw",
        "colab_type": "code",
        "colab": {}
      },
      "source": [
        "# Same for list in list\n",
        "list = [['list','list2'],{'a': 1, 'b': 2}, {'c': 3, 'd': 4}, {'e': 5, 'f': 6}]\n",
        "print(list[0][1])"
      ],
      "execution_count": 0,
      "outputs": []
    },
    {
      "cell_type": "markdown",
      "metadata": {
        "id": "JY8vHbArgYl9",
        "colab_type": "text"
      },
      "source": [
        "## Comparison Operators:\n",
        "Comparison Operators are used quite frequently in programming. Its a great way to compare and use data.\n",
        "\n",
        "Again we won't cover ALL of the comparison operators in this workshop, but you can see a full list of them [here](https://docs.python.org/3/library/stdtypes.html#comparisons)\n",
        "\n",
        "- `==` Equal\n",
        "- `!=` Not Equal\n",
        "- `>` Greater Than\n",
        "- `>=` Greater Than or Equal\n",
        "- `<` Less Than\n",
        "- `<=` Less Than or Equal\n",
        "\n",
        "Example:\n",
        "\n",
        "`current_score >= highest_score`\n",
        "This would return a boolean value. Depending on the values of these variables this would return either `True` or `False`. Try it in your console using numbers instead of variables!"
      ]
    },
    {
      "cell_type": "code",
      "metadata": {
        "id": "jNp-me_Jgd0C",
        "colab_type": "code",
        "colab": {}
      },
      "source": [
        "print(8 == 8)\n",
        "print(8 != 8)\n",
        "print(8 > 2)\n",
        "print(8 >= 8)\n",
        "print(8 < 12)\n",
        "print(8 <= 8)"
      ],
      "execution_count": 0,
      "outputs": []
    },
    {
      "cell_type": "markdown",
      "metadata": {
        "id": "g2FVATrlgeU0",
        "colab_type": "text"
      },
      "source": [
        "## Spacing\n",
        "most of the upcoming examples you'll see parts of the code indented.\n",
        "This lets python know when blocks of code begin & end. I'll explain as we go through examples. Just remember that spacing is important and it can cause issues with your code working."
      ]
    },
    {
      "cell_type": "code",
      "metadata": {
        "id": "I2VCj1Wcghzy",
        "colab_type": "code",
        "colab": {}
      },
      "source": [
        ""
      ],
      "execution_count": 0,
      "outputs": []
    },
    {
      "cell_type": "markdown",
      "metadata": {
        "id": "iCT4TXkQgk0e",
        "colab_type": "text"
      },
      "source": [
        "## Conditionals\n",
        "\n",
        "When writing a program you'll often want to check if data meets a certain condition or not. We can use conditionals to make decision about our data and create different outcomes\n",
        "\n",
        " In javascript you'll often use the `if` statement. This may be followed by `else if` or `else` depending on how many conditions need to be checked.\n",
        "\n",
        "Example:\n",
        "\n",
        "```\n",
        " if guess == answer:\n",
        "      message = \"You Win!\"\n",
        "  elif guess < answer:\n",
        "      message = \"Your guess is too low!\"\n",
        "  elif guess > answer:\n",
        "      message = \"your guess is too high!\";\n",
        "  else:\n",
        "    message = \"I think you entered something wrong...\"\n",
        "\n",
        "```\n"
      ]
    },
    {
      "cell_type": "code",
      "metadata": {
        "id": "wSZF0X_-goXe",
        "colab_type": "code",
        "colab": {}
      },
      "source": [
        "guess = 6\n",
        "answer = 5\n",
        "\n",
        "if guess == answer:\n",
        "  message = \"You Win!\"\n",
        "elif guess < answer:\n",
        "  message = \"Your guess is too low!\"\n",
        "elif guess > answer:\n",
        "  message = \"your guess is too high!\";\n",
        "else:\n",
        "    message = \"I think you entered something wrong...\"\n",
        "    \n",
        "print(message)"
      ],
      "execution_count": 0,
      "outputs": []
    },
    {
      "cell_type": "markdown",
      "metadata": {
        "id": "gtvb7euOgor_",
        "colab_type": "text"
      },
      "source": [
        "### Multiple Conditionals\n",
        "\n",
        "Use the keyword `and` or `or` between muliple conditionals. \n",
        "\n",
        "`or` if you want to run code when either condition is met\n",
        "\n",
        "`if i == 0 or i == 1:`\n",
        "\n",
        "`and` if you want to run the code when all conditions are met.\n",
        "\n",
        "`if i == 0 and x == 4:`\n"
      ]
    },
    {
      "cell_type": "code",
      "metadata": {
        "id": "8KB9x65wgpGL",
        "colab_type": "code",
        "colab": {
          "base_uri": "https://localhost:8080/",
          "height": 35
        },
        "outputId": "fee0f937-2ea6-4d23-919e-f78b8058d26d"
      },
      "source": [
        "i = 0\n",
        "x = 4\n",
        "\n",
        "if i == 0 and x == 4:\n",
        "  message = \"If ran\"\n",
        "else:\n",
        "  message = \"Else ran\"\n",
        "  \n",
        "print(message)"
      ],
      "execution_count": 34,
      "outputs": [
        {
          "output_type": "stream",
          "text": [
            "If ran\n"
          ],
          "name": "stdout"
        }
      ]
    },
    {
      "cell_type": "markdown",
      "metadata": {
        "id": "y2zxg_elgrl5",
        "colab_type": "text"
      },
      "source": [
        "### challenge\n",
        "\n",
        "- make a variable with with a numerical value. \n",
        "- using the `if`, `elif`, and `else` make your program print something different depending on the value in your variable."
      ]
    },
    {
      "cell_type": "code",
      "metadata": {
        "id": "zt-FOebtgsB3",
        "colab_type": "code",
        "colab": {}
      },
      "source": [
        "num = 79\n",
        "if num == 7:\n",
        "  print(\"its 7\")\n",
        "elif num < 6:\n",
        "  print(\"hellollloooo less than 6\")\n",
        "else:\n",
        "  print(\"its high\")"
      ],
      "execution_count": 0,
      "outputs": []
    },
    {
      "cell_type": "markdown",
      "metadata": {
        "id": "UM_gFmEpg1Ub",
        "colab_type": "text"
      },
      "source": [
        "## Loops\n",
        "We're going to go over some of the basic loops in python, but yet again we're not going to cover everything, so you may want to read more about loops [here](https://www.learnpython.org/en/Loops).\n",
        "\n",
        "Loops are used when you want to repeat something. You can repeat the exact same thing, or change some variable and repeat the action again.\n",
        "\n",
        "the two common types of loops are `for` and `while`.\n",
        "`for` loops are often used to run a loop a specified amount of time.\n",
        "\n",
        "`while` loops are often used to run a loop indefinitely until certain criteria are met.\n",
        "\n"
      ]
    },
    {
      "cell_type": "markdown",
      "metadata": {
        "id": "H6uTW8BWhUbt",
        "colab_type": "text"
      },
      "source": [
        "For loops:"
      ]
    },
    {
      "cell_type": "code",
      "metadata": {
        "id": "WoAZtp2Lg4RI",
        "colab_type": "code",
        "colab": {}
      },
      "source": [
        "#This `for` loop will run 5 times, and print out the value of `x` to the console. \n",
        "\n",
        "lis = [\"hello\", \"hi\"]\n",
        "\n",
        "for num in range(4):\n",
        "    print(num)"
      ],
      "execution_count": 0,
      "outputs": []
    },
    {
      "cell_type": "markdown",
      "metadata": {
        "id": "cRRy74UxhApM",
        "colab_type": "text"
      },
      "source": [
        "For loops are often used to loop through variables containing lists and dicts to get the individual values stored in them. We'll look at this soon!"
      ]
    },
    {
      "cell_type": "markdown",
      "metadata": {
        "id": "yO_-BxeghLwg",
        "colab_type": "text"
      },
      "source": [
        "read more on for loops [here](https://www.w3schools.com/python/python_for_loops.asp)"
      ]
    },
    {
      "cell_type": "markdown",
      "metadata": {
        "id": "hgzxUhBshO4i",
        "colab_type": "text"
      },
      "source": [
        "while loop:"
      ]
    },
    {
      "cell_type": "code",
      "metadata": {
        "id": "J0u3jo0ShMI2",
        "colab_type": "code",
        "colab": {}
      },
      "source": [
        "count = 1\n",
        "while count <= 5:\n",
        "    print(count)\n",
        "    count += 1  # This is the same as count = count + 1"
      ],
      "execution_count": 0,
      "outputs": []
    },
    {
      "cell_type": "markdown",
      "metadata": {
        "id": "GCwOE08Bhaxn",
        "colab_type": "text"
      },
      "source": [
        "read more on while loops [here](https://www.w3schools.com/python/python_while_loops.asp)"
      ]
    },
    {
      "cell_type": "markdown",
      "metadata": {
        "id": "n5vbjI_Vhe5j",
        "colab_type": "text"
      },
      "source": [
        "### challenge\n",
        "[Fizzbuzz](https://en.wikipedia.org/wiki/Fizz_buzz) and variations of it is a popular interview question. \n",
        "\n",
        "\"From 1 to 100.\n",
        "\n",
        "For each multiple of 3, print \"Fizz\" instead of the number. \n",
        "\n",
        "For each multiple of 5, print \"Buzz\" instead of the number. \n",
        "\n",
        "For numbers which are multiples of both 3 and 5, print \"FizzBuzz\" instead of the number.\"\n",
        "\n",
        "Lets break it down and solve it together!\n"
      ]
    },
    {
      "cell_type": "code",
      "metadata": {
        "id": "6UY4wED-hbKM",
        "colab_type": "code",
        "colab": {}
      },
      "source": [
        "# Lets do fizzbuzz!\n",
        "# How should break down this problem and start?\n",
        "\n",
        "# One hint: We're going to use range() function that will help us say how many times we want to iterate over something"
      ],
      "execution_count": 0,
      "outputs": []
    },
    {
      "cell_type": "code",
      "metadata": {
        "id": "28hwCAdXhlGG",
        "colab_type": "code",
        "colab": {}
      },
      "source": [
        ""
      ],
      "execution_count": 0,
      "outputs": []
    },
    {
      "cell_type": "markdown",
      "metadata": {
        "id": "89O-nogVjDjE",
        "colab_type": "text"
      },
      "source": [
        "## Iterating\n",
        "\n",
        "Now that we know about loops lets talk a bit more about iteration! \n",
        "\n",
        "Many objects may have data we want to iterate through to do something with it. Common iterables: Strings, Lists, Dicts, tuples.\n",
        "\n"
      ]
    },
    {
      "cell_type": "code",
      "metadata": {
        "id": "OoCjOrChjJCb",
        "colab_type": "code",
        "colab": {}
      },
      "source": [
        "# String\n",
        "\n",
        "word = \"hello\"\n",
        "\n",
        "for x in word:\n",
        "\tprint(x)"
      ],
      "execution_count": 0,
      "outputs": []
    },
    {
      "cell_type": "code",
      "metadata": {
        "id": "Vew6y2sTjJ4R",
        "colab_type": "code",
        "colab": {}
      },
      "source": [
        "#lists:\n",
        "\n",
        "tvshows = ['West World','Mr. Robot', 'Game of Thrones']\n",
        "\n",
        "for x in tvshows:\n",
        "\tprint(x)\n"
      ],
      "execution_count": 0,
      "outputs": []
    },
    {
      "cell_type": "code",
      "metadata": {
        "id": "FJQkzc2ijF5U",
        "colab_type": "code",
        "colab": {}
      },
      "source": [
        "#Dictionaries \n",
        "\n",
        "person =\t{\n",
        "  \"name\": \"Bob\",\n",
        "  \"age\": 50,\n",
        "  \"occupation\": 'programmer'\n",
        "}\n",
        "\n",
        "# get the values\n",
        "for x in person:\n",
        "\tprint(person[x])\n",
        "\t\n"
      ],
      "execution_count": 0,
      "outputs": []
    },
    {
      "cell_type": "code",
      "metadata": {
        "id": "_lB6gbbrjdG4",
        "colab_type": "code",
        "colab": {}
      },
      "source": [
        "# get the keys from dict\n",
        "for x in person:\n",
        "\tprint(x)\n",
        "\t"
      ],
      "execution_count": 0,
      "outputs": []
    },
    {
      "cell_type": "code",
      "metadata": {
        "id": "OSiFql8n0_gl",
        "colab_type": "code",
        "colab": {}
      },
      "source": [
        "person.keys()"
      ],
      "execution_count": 0,
      "outputs": []
    },
    {
      "cell_type": "markdown",
      "metadata": {
        "id": "PXROTy3njuWr",
        "colab_type": "text"
      },
      "source": [
        "## Functions\n",
        "Reduce, Reuse, Recycle\n",
        "\n",
        "Functions make it easy to reuse code. If you find yourself repeating code you may want to turn it into a function!\n",
        "\n",
        "Example:\n",
        "This function takes in two arguments(a, b) and returns the value of them added together. \n"
      ]
    },
    {
      "cell_type": "code",
      "metadata": {
        "id": "W1m5Brikjul6",
        "colab_type": "code",
        "colab": {}
      },
      "source": [
        "def functionname(a, b):\n",
        "  pass"
      ],
      "execution_count": 0,
      "outputs": []
    },
    {
      "cell_type": "markdown",
      "metadata": {
        "id": "gEbbFigOjyaz",
        "colab_type": "text"
      },
      "source": [
        "to use the function call it by writing its name and open/close parenthesis(). With arguments passed inside the parenthesis():"
      ]
    },
    {
      "cell_type": "code",
      "metadata": {
        "id": "kxTm3kQlj1PM",
        "colab_type": "code",
        "colab": {}
      },
      "source": [
        "functionname(4,6)"
      ],
      "execution_count": 0,
      "outputs": []
    },
    {
      "cell_type": "code",
      "metadata": {
        "id": "ULxvC-tPkKhG",
        "colab_type": "code",
        "colab": {}
      },
      "source": [
        "functionname(2,5)"
      ],
      "execution_count": 0,
      "outputs": []
    },
    {
      "cell_type": "markdown",
      "metadata": {
        "id": "G9KHuo0ykPFX",
        "colab_type": "text"
      },
      "source": [
        "In this simple example you're not saving a ton of code, but imagine a function that uses many lines of code! \n"
      ]
    },
    {
      "cell_type": "markdown",
      "metadata": {
        "id": "a686NzkEkTtC",
        "colab_type": "text"
      },
      "source": [
        "### challenge\n",
        "\n",
        "Make our fizzbuzz solution a function that takes an input for the range of fizzbuzz"
      ]
    },
    {
      "cell_type": "code",
      "metadata": {
        "id": "PyORRnJekP3C",
        "colab_type": "code",
        "colab": {
          "base_uri": "https://localhost:8080/",
          "height": 190
        },
        "outputId": "acfb8735-8c73-468c-b446-0556e8454b48"
      },
      "source": [
        "# Here is our previous solution for fizzbuzz. \n",
        "# How would we make it a function?\n",
        "# Lets make it so we can pass a value to the range!\n",
        "\n",
        "\n",
        "for i in range(1,11):\n",
        "  if i%3==0 and i%5==0:\n",
        "      print(\"FizzBuzz\")\n",
        "  elif i%3==0:\n",
        "      print(\"Fizz\")\n",
        "  elif i%5==0:\n",
        "      print(\"Buzz\")\n",
        "  else:\n",
        "      print(i)\n",
        "\n"
      ],
      "execution_count": 64,
      "outputs": [
        {
          "output_type": "stream",
          "text": [
            "1\n",
            "2\n",
            "Fizz\n",
            "4\n",
            "Buzz\n",
            "Fizz\n",
            "7\n",
            "8\n",
            "Fizz\n",
            "Buzz\n"
          ],
          "name": "stdout"
        }
      ]
    },
    {
      "cell_type": "code",
      "metadata": {
        "id": "12BsrDnolTZk",
        "colab_type": "code",
        "colab": {}
      },
      "source": [
        "# Call function"
      ],
      "execution_count": 0,
      "outputs": []
    },
    {
      "cell_type": "code",
      "metadata": {
        "id": "P4cYImABge6B",
        "colab_type": "code",
        "colab": {}
      },
      "source": [
        "#Call function with different values"
      ],
      "execution_count": 0,
      "outputs": []
    },
    {
      "cell_type": "code",
      "metadata": {
        "id": "pMNA2uc7ggFh",
        "colab_type": "code",
        "colab": {}
      },
      "source": [
        "#Call function with different values again!\n"
      ],
      "execution_count": 0,
      "outputs": []
    },
    {
      "cell_type": "markdown",
      "metadata": {
        "id": "1vtoP2_X_PQP",
        "colab_type": "text"
      },
      "source": [
        "### Built in functions\n",
        "\n",
        "We've seen some like `range()`, `str()`\n",
        "\n",
        "There are many more!\n",
        "\n",
        "Check out a list of them [here](https://docs.python.org/3/library/functions.html).\n",
        "\n"
      ]
    },
    {
      "cell_type": "markdown",
      "metadata": {
        "id": "Gj-Ps93_bm9z",
        "colab_type": "text"
      },
      "source": [
        "## Using Libraries\n",
        "\n",
        "\n",
        "As I've probably mentioned one of the things that makes python so powerful and popular are all the libraries you can install and use with your code! \n",
        "\n",
        "\n",
        "Just a few popular ones:\n",
        "\n",
        "Web Development:\n",
        " - Flask\n",
        " - Django\n",
        " - sqlalchmy\n",
        " \n",
        "Data Science\n",
        "- pandas\n",
        "- numpy\n",
        "- scikit learn\n",
        "- seaborn\n",
        "\n",
        "\n",
        "\n",
        "You can usually install these libraries by either using `pip` or `anaconda`.\n",
        "\n",
        "In your terminal you would type:\n",
        "\n",
        "`pip install libraryname` or `conda install libraryname`\n",
        "\n",
        "\n",
        "Colab already has many popular data science libraries installed! Lets take a quick look at how to import these into our file and use them in our code!\n"
      ]
    },
    {
      "cell_type": "code",
      "metadata": {
        "id": "aNYqFBc9bmaN",
        "colab_type": "code",
        "colab": {}
      },
      "source": [
        "# import teh random library\n",
        "# note: The random library comes installed with python but is not loaded by default\n",
        "import random\n"
      ],
      "execution_count": 0,
      "outputs": []
    },
    {
      "cell_type": "code",
      "metadata": {
        "id": "t_f27Fgd6DJ7",
        "colab_type": "code",
        "colab": {
          "base_uri": "https://localhost:8080/",
          "height": 35
        },
        "outputId": "9e9a6d4a-d841-4751-e0b0-6bdcfe3d8a26"
      },
      "source": [
        "number = random.randint(1, 10)\n",
        "print(number)"
      ],
      "execution_count": 56,
      "outputs": [
        {
          "output_type": "stream",
          "text": [
            "4\n"
          ],
          "name": "stdout"
        }
      ]
    },
    {
      "cell_type": "markdown",
      "metadata": {
        "id": "gE9avXdx7C20",
        "colab_type": "text"
      },
      "source": [
        "Lets look at something a little more adavced.\n",
        "\n",
        "I won't cover EVERYTHING happening in this cell. Come back for the intro to datascience or machine learning workshop!\n",
        "\n",
        "But lets see how easy it is to start exploring data in python!\n"
      ]
    },
    {
      "cell_type": "code",
      "metadata": {
        "id": "Xq2evYdY6duP",
        "colab_type": "code",
        "colab": {}
      },
      "source": [
        "from sklearn.datasets import load_iris\n",
        "import seaborn as sns\n",
        "import pandas as pd\n",
        "import numpy as np\n",
        "\n",
        "#load iris dataset\n",
        "iris = load_iris()\n",
        "\n",
        "#create dataframe with Pandas\n",
        "df = pd.DataFrame(data= np.c_[iris['data'], iris['target']], columns= iris['feature_names'] + ['target'])\n",
        "\n",
        "# Create pair plot of irsi data\n",
        "sns.pairplot(df, hue = 'target')"
      ],
      "execution_count": 0,
      "outputs": []
    },
    {
      "cell_type": "markdown",
      "metadata": {
        "id": "-U7r9VqilUF-",
        "colab_type": "text"
      },
      "source": [
        "### Guessing game\n",
        "\n",
        "Another example of putting things together\n"
      ]
    },
    {
      "cell_type": "code",
      "metadata": {
        "id": "HOEBpBD3lX-D",
        "colab_type": "code",
        "outputId": "d8884613-eb98-461f-8d4a-63e6dca28e7d",
        "colab": {
          "base_uri": "https://localhost:8080/",
          "height": 252
        }
      },
      "source": [
        "import random\n",
        "\n",
        "number = random.randint(1, 10)\n",
        "guess_count = 1\n",
        "guesses = 5\n",
        "\n",
        "\n",
        "# start while \n",
        "while True:\n",
        "  \n",
        "  guess = int(input(\"Guess the random number between 1 & 10: \"))\n",
        "  \n",
        "  if guess == number:\n",
        "    print(\"You got it! Great job!\")\n",
        "    break\n",
        "  \n",
        "  elif guess_count == 5:\n",
        "    print(\"you lose\")\n",
        "    break\n",
        "\n",
        "  elif guess < number:\n",
        "    print(\"Try something higher... you have {} guesses remaining!\".format(guesses - guess_count))\n",
        "    guess_count = guess_count + 1\n",
        "   \n",
        "\n",
        "  elif guess > number:\n",
        "    \n",
        "    print(\"Try something lower... you have {} guesses remaining!\".format(guesses - guess_count))\n",
        "    guess_count = guess_count + 1\n",
        "    \n",
        "    "
      ],
      "execution_count": 0,
      "outputs": [
        {
          "output_type": "stream",
          "text": [
            "Guess the random number between 1 & 10: hkhl\n"
          ],
          "name": "stdout"
        },
        {
          "output_type": "error",
          "ename": "ValueError",
          "evalue": "ignored",
          "traceback": [
            "\u001b[0;31m---------------------------------------------------------------------------\u001b[0m",
            "\u001b[0;31mValueError\u001b[0m                                Traceback (most recent call last)",
            "\u001b[0;32m<ipython-input-1-4eb5f7ab6aca>\u001b[0m in \u001b[0;36m<module>\u001b[0;34m()\u001b[0m\n\u001b[1;32m      9\u001b[0m \u001b[0;32mwhile\u001b[0m \u001b[0;32mTrue\u001b[0m\u001b[0;34m:\u001b[0m\u001b[0;34m\u001b[0m\u001b[0;34m\u001b[0m\u001b[0m\n\u001b[1;32m     10\u001b[0m \u001b[0;34m\u001b[0m\u001b[0m\n\u001b[0;32m---> 11\u001b[0;31m   \u001b[0mguess\u001b[0m \u001b[0;34m=\u001b[0m \u001b[0mint\u001b[0m\u001b[0;34m(\u001b[0m\u001b[0minput\u001b[0m\u001b[0;34m(\u001b[0m\u001b[0;34m\"Guess the random number between 1 & 10: \"\u001b[0m\u001b[0;34m)\u001b[0m\u001b[0;34m)\u001b[0m\u001b[0;34m\u001b[0m\u001b[0;34m\u001b[0m\u001b[0m\n\u001b[0m\u001b[1;32m     12\u001b[0m \u001b[0;34m\u001b[0m\u001b[0m\n\u001b[1;32m     13\u001b[0m   \u001b[0;32mif\u001b[0m \u001b[0mguess\u001b[0m \u001b[0;34m==\u001b[0m \u001b[0mnumber\u001b[0m\u001b[0;34m:\u001b[0m\u001b[0;34m\u001b[0m\u001b[0;34m\u001b[0m\u001b[0m\n",
            "\u001b[0;31mValueError\u001b[0m: invalid literal for int() with base 10: 'hkhl'"
          ]
        }
      ]
    },
    {
      "cell_type": "markdown",
      "metadata": {
        "id": "q-LnqcvwrAHn",
        "colab_type": "text"
      },
      "source": [
        "What are some ideas for improvements? \n",
        "\n",
        "- Exit on command\n",
        "- data validation\n",
        "- input the number range from user\n",
        "- make it a function\n",
        "- output grammar depending on number of tries"
      ]
    },
    {
      "cell_type": "markdown",
      "metadata": {
        "id": "tiD_VqIgwD85",
        "colab_type": "text"
      },
      "source": [
        "## [<< back to git repo >> ](https://github.com/sagecodes/intro-to-python)"
      ]
    }
  ]
}