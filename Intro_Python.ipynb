{
  "nbformat": 4,
  "nbformat_minor": 0,
  "metadata": {
    "colab": {
      "name": "Intro-Python.ipynb",
      "version": "0.3.2",
      "provenance": [],
      "collapsed_sections": [
        "a686NzkEkTtC"
      ]
    },
    "kernelspec": {
      "name": "python3",
      "display_name": "Python 3"
    }
  },
  "cells": [
    {
      "metadata": {
        "id": "kyQMUuU3sEpm",
        "colab_type": "text"
      },
      "cell_type": "markdown",
      "source": [
        "# Learn to Code: Introduction to Python\n",
        "\n",
        "Brought to you by Galvanize. Learn more about the way we teach at [galvanize.com](http://galvanize.com).\n",
        "\n",
        "\n",
        "Learn more Python and much more with Galvanize Data Science Premium Prep! Currently free if you sign up now! [http://bit.ly/2u0cahU](http://bit.ly/2u0cahU)"
      ]
    },
    {
      "metadata": {
        "id": "gQPACcbOUP0p",
        "colab_type": "text"
      },
      "cell_type": "markdown",
      "source": [
        "### Comments"
      ]
    },
    {
      "metadata": {
        "id": "c3ioanX3UTV7",
        "colab_type": "code",
        "colab": {}
      },
      "cell_type": "code",
      "source": [
        "# This is a comment. It will not do anything as code\n",
        "# But it is super useful to document what your code is doing!"
      ],
      "execution_count": 0,
      "outputs": []
    },
    {
      "metadata": {
        "id": "kqv7z30_Tjfc",
        "colab_type": "text"
      },
      "cell_type": "markdown",
      "source": [
        "### Printing"
      ]
    },
    {
      "metadata": {
        "id": "mQzqQ7RxTAbE",
        "colab_type": "code",
        "outputId": "abfa2c87-8e3b-454f-c75b-5afa47d47736",
        "colab": {
          "base_uri": "https://localhost:8080/",
          "height": 35
        }
      },
      "cell_type": "code",
      "source": [
        "# Printing an output in python\n",
        "\n",
        "print(\"Hello, Galvanize\")"
      ],
      "execution_count": 0,
      "outputs": [
        {
          "output_type": "stream",
          "text": [
            "Hello, Galvanize\n"
          ],
          "name": "stdout"
        }
      ]
    },
    {
      "metadata": {
        "id": "oxwgisrITuSN",
        "colab_type": "text"
      },
      "cell_type": "markdown",
      "source": [
        "### Variables\n",
        "\n",
        "Variables are a way to store information. This is super useful! You can then receive or update the variable in your program. You'll see this later!\n",
        "\n",
        "Think of it as naming a piece of data.\n",
        "\n",
        "its common in programming languages to have a keyword before the variable such as var or int, but python does not need this."
      ]
    },
    {
      "metadata": {
        "id": "zBapGTEQTwTz",
        "colab_type": "code",
        "outputId": "87bd6ea5-adbc-42b7-d5a1-3527fae87f45",
        "colab": {
          "base_uri": "https://localhost:8080/",
          "height": 35
        }
      },
      "cell_type": "code",
      "source": [
        "twitter = \"@sagecodes\"\n",
        "\n",
        "print(twitter)"
      ],
      "execution_count": 0,
      "outputs": [
        {
          "output_type": "stream",
          "text": [
            "@sagecodes\n"
          ],
          "name": "stdout"
        }
      ]
    },
    {
      "metadata": {
        "id": "3EG06J0GUC15",
        "colab_type": "text"
      },
      "cell_type": "markdown",
      "source": [
        "#### Challenge:\n",
        "Create a variable called name and assign it your name. Use the print() function to print out the variable value."
      ]
    },
    {
      "metadata": {
        "id": "dJdbUcChUE1g",
        "colab_type": "code",
        "colab": {}
      },
      "cell_type": "code",
      "source": [
        "# Write you Code Here!"
      ],
      "execution_count": 0,
      "outputs": []
    },
    {
      "metadata": {
        "id": "R4f_A4gkULcr",
        "colab_type": "code",
        "colab": {}
      },
      "cell_type": "code",
      "source": [
        ""
      ],
      "execution_count": 0,
      "outputs": []
    },
    {
      "metadata": {
        "id": "HnYboIFeruCs",
        "colab_type": "text"
      },
      "cell_type": "markdown",
      "source": [
        "## Interact with users\n",
        "\n",
        "Getting input from the command line can be useful.\n",
        "\n",
        "To do that we will use the `input` function. And we want to assign that input to a variable.\n",
        "\n",
        "`guess = input(\"enter guess\")`\n",
        "\n",
        "Print will output text to the terminal\n",
        "\n",
        "```\n",
        "guess = input(\"enter guess: \")\n",
        "print(\"Your guess was {}\".format(guess))\n",
        "```\n",
        "\n"
      ]
    },
    {
      "metadata": {
        "id": "ne6TgdETrwZo",
        "colab_type": "code",
        "outputId": "aac66a45-98ea-4a67-faea-e5cc5d013492",
        "colab": {
          "base_uri": "https://localhost:8080/",
          "height": 52
        }
      },
      "cell_type": "code",
      "source": [
        "input(\"I'm looking for some input... \")"
      ],
      "execution_count": 0,
      "outputs": [
        {
          "output_type": "stream",
          "text": [
            "I'm looking for some input... cool\n"
          ],
          "name": "stdout"
        },
        {
          "output_type": "execute_result",
          "data": {
            "text/plain": [
              "'cool'"
            ]
          },
          "metadata": {
            "tags": []
          },
          "execution_count": 4
        }
      ]
    },
    {
      "metadata": {
        "colab_type": "text",
        "id": "X0nSfeB2uJJP"
      },
      "cell_type": "markdown",
      "source": [
        "---\n",
        "### Challenge:\n",
        "\n",
        "Create a variable called `name` and ask a user for their name using the `input` function.\n",
        "\n",
        "Print out the name."
      ]
    },
    {
      "metadata": {
        "id": "PxFtcjU9r0AW",
        "colab_type": "code",
        "colab": {}
      },
      "cell_type": "code",
      "source": [
        ""
      ],
      "execution_count": 0,
      "outputs": []
    },
    {
      "metadata": {
        "id": "9QKo9HPfU6Zj",
        "colab_type": "text"
      },
      "cell_type": "markdown",
      "source": [
        "### Data Structures(Data Types):\n",
        "\n",
        "We're going to stick with the basics, so We wont be going over EVERY data type in Python, but you you can read a more comprehensive list [here](https://docs.python.org/3/library/stdtypes.html#dict).  \n",
        "\n",
        "Feel free to try these different data types out in your code!"
      ]
    },
    {
      "metadata": {
        "id": "OsZZEqV2VlY6",
        "colab_type": "text"
      },
      "cell_type": "markdown",
      "source": [
        "#### Numbers:\n",
        "\n",
        "Numbers are written just like you would think. Just the number! No quotes or symbols to worry about. If you do put quotes around a number it will become a string (see next)\n",
        "\n",
        "`25` `100`\n",
        "\n",
        "Multiple, Add, Divide, Compare, remainder\n",
        "\n",
        "- `5 * 5` | output: 25\n",
        "- `5 + 5` | output: 10\n",
        "- `8 / 2` | output: 4\n",
        "- `8 > 2` | output: true\n",
        "- `8 % 8` | output: 0 \n"
      ]
    },
    {
      "metadata": {
        "id": "t6OLdoUSVNJw",
        "colab_type": "code",
        "outputId": "5faf5f4c-4320-4cad-e6cf-cb7b5f4a1b51",
        "colab": {
          "base_uri": "https://localhost:8080/",
          "height": 104
        }
      },
      "cell_type": "code",
      "source": [
        "print(5 * 5)\n",
        "print(5 + 5)\n",
        "print(8/2)\n",
        "print(8 > 2)\n",
        "print(8 % 8)"
      ],
      "execution_count": 0,
      "outputs": [
        {
          "output_type": "stream",
          "text": [
            "25\n",
            "10\n",
            "4.0\n",
            "True\n",
            "0\n"
          ],
          "name": "stdout"
        }
      ]
    },
    {
      "metadata": {
        "id": "pwE9BL9hV9KY",
        "colab_type": "text"
      },
      "cell_type": "markdown",
      "source": [
        "#### Strings:\n",
        "Strings can be a collection of letters, symbols and/or numbers. They are made by surrounding the content with quotation marks.\n",
        "\n",
        "`\"Hello, World.\"`\n",
        "\n",
        "`\"CrAzy Random String 987879896jvdjvda &&(&(@*(*\"`\n",
        "\n",
        "\n"
      ]
    },
    {
      "metadata": {
        "id": "kLDsf4f7V9jo",
        "colab_type": "code",
        "outputId": "83504fe9-8a31-4078-8ff8-b0b3ff0dd182",
        "colab": {
          "base_uri": "https://localhost:8080/",
          "height": 69
        }
      },
      "cell_type": "code",
      "source": [
        "# Three ways of defining a string. \n",
        "# make sure you begin and end with same quotation set\n",
        "\n",
        "singlequote = 'A string in Single quotes!'\n",
        "doublequote = \"A string in Double quotes!\"\n",
        "triplequote = '''A string in Triple single quotes!'''\n",
        "\n",
        "print(singlequote)\n",
        "print(doublequote)\n",
        "print(triplequote)"
      ],
      "execution_count": 0,
      "outputs": [
        {
          "output_type": "stream",
          "text": [
            "A string in Single quotes!\n",
            "A string in Double quotes!\n",
            "A string in Triple single quotes!\n"
          ],
          "name": "stdout"
        }
      ]
    },
    {
      "metadata": {
        "id": "NQPL2kGAXtqM",
        "colab_type": "code",
        "outputId": "f446d016-0fa2-42a8-e32b-f3e654d662e3",
        "colab": {
          "base_uri": "https://localhost:8080/",
          "height": 35
        }
      },
      "cell_type": "code",
      "source": [
        "# If you're unsure what data will be in your string\n",
        "# Triple quotes is the safest to use\n",
        "# It will prevent a single or double quotation mark breaking the string\n",
        "\n",
        "triplesafe = '''A string ' in \" Triple single quotes!'''\n",
        "print(triplesafe)"
      ],
      "execution_count": 0,
      "outputs": [
        {
          "output_type": "stream",
          "text": [
            "A string ' in \" Triple single quotes!\n"
          ],
          "name": "stdout"
        }
      ]
    },
    {
      "metadata": {
        "id": "oGM_4s3pXDbo",
        "colab_type": "code",
        "outputId": "8061c39e-5d20-4f53-e69d-14404f8b5c5a",
        "colab": {
          "base_uri": "https://localhost:8080/",
          "height": 35
        }
      },
      "cell_type": "code",
      "source": [
        "# Can we add strings together? Try it out!\n",
        "print(singlequote + doublequote)"
      ],
      "execution_count": 0,
      "outputs": [
        {
          "output_type": "stream",
          "text": [
            "A string in Single quotes!A string in Double quotes!\n"
          ],
          "name": "stdout"
        }
      ]
    },
    {
      "metadata": {
        "id": "b00_QaTCYGqq",
        "colab_type": "text"
      },
      "cell_type": "markdown",
      "source": [
        "##### Variables in strings\n",
        "\n",
        "Often we will want to add in variables to a string. \n",
        "\n",
        "Imagine having someones name, age, etc... populate into a string depending on the user.\n",
        "\n",
        "As you'll see below there are several ways of doing this!"
      ]
    },
    {
      "metadata": {
        "id": "boBuZPDqYb-S",
        "colab_type": "code",
        "colab": {}
      },
      "cell_type": "code",
      "source": [
        "# Lets create some variables to work with\n",
        "# Feel Free to change them or create your own!\n",
        "\n",
        "name = \"Alexa\"\n",
        "city = \"Seattle\"\n",
        "career = \"Programmer\"\n",
        "age = 40\n"
      ],
      "execution_count": 0,
      "outputs": []
    },
    {
      "metadata": {
        "id": "4zg8AYqCarfs",
        "colab_type": "text"
      },
      "cell_type": "markdown",
      "source": [
        "##### Concatenation\n",
        "\n",
        "You can add variables into string by breaking up the string into bits and adding a varible in between them. \n",
        "\n",
        "This gets pretty messy really fast. Its harder to change the sentence in the future, you have to add spaces at teh begining or or ends of strings. You have to convert numbers into strings if you want to use them."
      ]
    },
    {
      "metadata": {
        "id": "pPDPmu5hZCNZ",
        "colab_type": "code",
        "outputId": "7b02548e-2402-465f-882f-5c405628d3c4",
        "colab": {
          "base_uri": "https://localhost:8080/",
          "height": 35
        }
      },
      "cell_type": "code",
      "source": [
        "\n",
        "# concatenation \n",
        "concatstring =  \"Hello, my name is \" + name + \". I am \" + career + \" in \" + city + \". I am \" + str(age) + \" years old.\"\n",
        "\n",
        "print(concatstring)\n",
        "\n"
      ],
      "execution_count": 0,
      "outputs": [
        {
          "output_type": "stream",
          "text": [
            "Hello, my name is Alexa. I am Programmer in Seattle. I am 40 years old.\n"
          ],
          "name": "stdout"
        }
      ]
    },
    {
      "metadata": {
        "id": "zOk20gPZYjhj",
        "colab_type": "code",
        "outputId": "821b3b5f-b86b-41be-f9c6-435fc6a43e9f",
        "colab": {
          "base_uri": "https://localhost:8080/",
          "height": 35
        }
      },
      "cell_type": "code",
      "source": [
        "# More common way\n",
        "placeholderstring =  \"Hello, my name is {}. I am a {} in {}. I am {} years old.\".format(name, career,city, age)\n",
        "\n",
        "print(placeholderstring)\n",
        "\n"
      ],
      "execution_count": 0,
      "outputs": [
        {
          "output_type": "stream",
          "text": [
            "Hello, my name is Alexa. I am a Programmer in Seattle. I am 40 years old.\n"
          ],
          "name": "stdout"
        }
      ]
    },
    {
      "metadata": {
        "id": "6pQbnGaaZ5UN",
        "colab_type": "code",
        "outputId": "530ec744-7e06-4a44-b933-1fc8015ed862",
        "colab": {
          "base_uri": "https://localhost:8080/",
          "height": 35
        }
      },
      "cell_type": "code",
      "source": [
        "# you can specify which variable is used where\n",
        "placeholderorder =  \"Hello, my name is {2}. I am a {1} in {3}. I am {0} years old.\".format(name, career,city, age)\n",
        "\n",
        "print(placeholderorder)"
      ],
      "execution_count": 0,
      "outputs": [
        {
          "output_type": "stream",
          "text": [
            "Hello, my name is Seattle. I am a Programmer in 40. I am Alexa years old.\n"
          ],
          "name": "stdout"
        }
      ]
    },
    {
      "metadata": {
        "id": "qTRoiH9sZ5dZ",
        "colab_type": "code",
        "outputId": "032c4748-9bd0-4c1e-ae73-e1566180b8d2",
        "colab": {
          "base_uri": "https://localhost:8080/",
          "height": 35
        }
      },
      "cell_type": "code",
      "source": [
        "# Fstring\n",
        "# My favorite way!\n",
        "\n",
        "fstring = f\"Hello, my name is {name}. I am a {career} in {city}. I am {age} years old.\"\n",
        "\n",
        "print(fstring)"
      ],
      "execution_count": 0,
      "outputs": [
        {
          "output_type": "stream",
          "text": [
            "Hello, my name is Alexa. I am a Programmer in Seattle. I am 40 years old.\n"
          ],
          "name": "stdout"
        }
      ]
    },
    {
      "metadata": {
        "id": "kigsnxLHr7yk",
        "colab_type": "text"
      },
      "cell_type": "markdown",
      "source": [
        "---\n",
        "### Challenge:\n",
        "\n",
        "Using the `input()` function ask a user for there name. Then print out a sentence using the name. \n"
      ]
    },
    {
      "metadata": {
        "id": "KojLpqJdr9lH",
        "colab_type": "code",
        "colab": {}
      },
      "cell_type": "code",
      "source": [
        ""
      ],
      "execution_count": 0,
      "outputs": []
    },
    {
      "metadata": {
        "id": "F9SMiWYwdhna",
        "colab_type": "text"
      },
      "cell_type": "markdown",
      "source": [
        "#### Booleans:\n",
        "You can think of Booleans as yes(true) and no(false)\n",
        "\n",
        "`True` `False`\n",
        "\n",
        "We'll go into how to use these in a little bit. For now just remember they exist!\n"
      ]
    },
    {
      "metadata": {
        "id": "HoBPgHysdl5_",
        "colab_type": "text"
      },
      "cell_type": "markdown",
      "source": [
        "#### Lists (Arrays)\n",
        "\n",
        "Often used to store a list of values."
      ]
    },
    {
      "metadata": {
        "id": "DccibF3vdm4i",
        "colab_type": "code",
        "outputId": "5adeb079-4483-4283-954b-2c2ad1eb7f6b",
        "colab": {
          "base_uri": "https://localhost:8080/",
          "height": 35
        }
      },
      "cell_type": "code",
      "source": [
        "tvshows = ['West World','Mr. Robot', 'Game of Thrones']\n",
        "print(tvshows)"
      ],
      "execution_count": 0,
      "outputs": [
        {
          "output_type": "stream",
          "text": [
            "['West World', 'Mr. Robot', 'Game of Thrones']\n"
          ],
          "name": "stdout"
        }
      ]
    },
    {
      "metadata": {
        "id": "7ClMzUOydseB",
        "colab_type": "code",
        "outputId": "42117a53-25d0-45fa-c3de-1cad14073e1b",
        "colab": {
          "base_uri": "https://localhost:8080/",
          "height": 35
        }
      },
      "cell_type": "code",
      "source": [
        "# print single item. Index starts at zero\n",
        "print(tvshows[0])"
      ],
      "execution_count": 0,
      "outputs": [
        {
          "output_type": "stream",
          "text": [
            "West World\n"
          ],
          "name": "stdout"
        }
      ]
    },
    {
      "metadata": {
        "id": "gVZMIy2bdyEl",
        "colab_type": "code",
        "outputId": "c4d7457e-7d7c-4541-9946-7d4fcd140073",
        "colab": {
          "base_uri": "https://localhost:8080/",
          "height": 52
        }
      },
      "cell_type": "code",
      "source": [
        "# Update an item in an array\n",
        "tvshows[0] = \"killer robots\"\n",
        "print(tvshows[0])\n",
        "print(tvshows)"
      ],
      "execution_count": 0,
      "outputs": [
        {
          "output_type": "stream",
          "text": [
            "killer robots\n",
            "['killer robots', 'Mr. Robot', 'Game of Thrones', 'FireFly']\n"
          ],
          "name": "stdout"
        }
      ]
    },
    {
      "metadata": {
        "id": "nAexCOzad2uw",
        "colab_type": "code",
        "outputId": "34dcd080-dc45-463b-ae9c-31a706137025",
        "colab": {
          "base_uri": "https://localhost:8080/",
          "height": 35
        }
      },
      "cell_type": "code",
      "source": [
        "# Add to an array\n",
        "tvshows.append(\"FireFly\")\n",
        "print(tvshows)"
      ],
      "execution_count": 0,
      "outputs": [
        {
          "output_type": "stream",
          "text": [
            "['killer robots', 'Mr. Robot', 'Game of Thrones', 'FireFly', 'FireFly']\n"
          ],
          "name": "stdout"
        }
      ]
    },
    {
      "metadata": {
        "id": "hXziRupfd60o",
        "colab_type": "code",
        "outputId": "5a70c582-44c7-4560-a40a-ead3314d90da",
        "colab": {
          "base_uri": "https://localhost:8080/",
          "height": 35
        }
      },
      "cell_type": "code",
      "source": [
        "# Remove from an array\n",
        "tvshows.remove(\"Game of Thrones\")\n",
        "print(tvshows)"
      ],
      "execution_count": 0,
      "outputs": [
        {
          "output_type": "stream",
          "text": [
            "['killer robots', 'Mr. Robot', 'FireFly', 'FireFly']\n"
          ],
          "name": "stdout"
        }
      ]
    },
    {
      "metadata": {
        "id": "Tq78SJCDd-_j",
        "colab_type": "code",
        "outputId": "4f4279f7-c2b5-4a4f-d3ab-32a7f1a20df1",
        "colab": {
          "base_uri": "https://localhost:8080/",
          "height": 35
        }
      },
      "cell_type": "code",
      "source": [
        "# Or if you want to get rid of a certain part of the list\n",
        "\n",
        "tvshows.remove(tvshows[0])\n",
        "print(tvshows)"
      ],
      "execution_count": 0,
      "outputs": [
        {
          "output_type": "stream",
          "text": [
            "['Mr. Robot', 'FireFly', 'FireFly']\n"
          ],
          "name": "stdout"
        }
      ]
    },
    {
      "metadata": {
        "id": "ZMPgf3AsePWy",
        "colab_type": "text"
      },
      "cell_type": "markdown",
      "source": [
        "#### Tuples\n",
        "\n",
        "Tuples behave a lot like lists, except you cannot change the values later in the code like we did in lists.\n",
        "\n",
        "\n"
      ]
    },
    {
      "metadata": {
        "id": "xjHaP9LqeT3W",
        "colab_type": "code",
        "outputId": "f57a309d-22bb-4293-cd01-63426e822745",
        "colab": {
          "base_uri": "https://localhost:8080/",
          "height": 35
        }
      },
      "cell_type": "code",
      "source": [
        "tupleshows = ('West World','Mr. Robot', 'Game of Thrones')\n",
        "print(tvshows)"
      ],
      "execution_count": 0,
      "outputs": [
        {
          "output_type": "stream",
          "text": [
            "['Mr. Robot', 'FireFly', 'FireFly']\n"
          ],
          "name": "stdout"
        }
      ]
    },
    {
      "metadata": {
        "id": "YgBT7LnLebBl",
        "colab_type": "code",
        "colab": {}
      },
      "cell_type": "code",
      "source": [
        "# you cannot update tuples in your code. They will throw an error.\n",
        "# Update an item in an array\n",
        "tupleshows[0] = \"killer robots\"\n",
        "print(tvshows)"
      ],
      "execution_count": 0,
      "outputs": []
    },
    {
      "metadata": {
        "id": "w5WHxKRIeqBg",
        "colab_type": "text"
      },
      "cell_type": "markdown",
      "source": [
        "#### Dictionary (Dict)\n",
        "\n",
        "Dictionaries can also be used to store values, but they are indexed. \n",
        "\n"
      ]
    },
    {
      "metadata": {
        "id": "9D7nhJ6beqTa",
        "colab_type": "code",
        "outputId": "965b154f-b5e9-4258-fa35-b373f2bc9038",
        "colab": {
          "base_uri": "https://localhost:8080/",
          "height": 52
        }
      },
      "cell_type": "code",
      "source": [
        "person =\t{\n",
        "  \"name\": \"Bob\",\n",
        "  \"age\": 50,\n",
        "  \"occupation\": 'programmer'\n",
        "}\n",
        "print(person)\n",
        "print(person['name'])"
      ],
      "execution_count": 0,
      "outputs": [
        {
          "output_type": "stream",
          "text": [
            "{'name': 'Bob', 'age': 50, 'occupation': 'programmer'}\n",
            "Bob\n"
          ],
          "name": "stdout"
        }
      ]
    },
    {
      "metadata": {
        "id": "pMMKc36meuwk",
        "colab_type": "code",
        "outputId": "e961f63e-8596-4980-f2b1-9a801082e628",
        "colab": {
          "base_uri": "https://localhost:8080/",
          "height": 35
        }
      },
      "cell_type": "code",
      "source": [
        "# Update\n",
        "\n",
        "person['name'] = \"Ted\"\n",
        "print(person['name'])"
      ],
      "execution_count": 0,
      "outputs": [
        {
          "output_type": "stream",
          "text": [
            "Ted\n"
          ],
          "name": "stdout"
        }
      ]
    },
    {
      "metadata": {
        "id": "S1tgpL1feycl",
        "colab_type": "code",
        "outputId": "ce51be1b-91e0-46a2-86c9-3cc5db48bfc7",
        "colab": {
          "base_uri": "https://localhost:8080/",
          "height": 35
        }
      },
      "cell_type": "code",
      "source": [
        "# add \n",
        "person['city'] = 'Seattle'  \n",
        "print(person)"
      ],
      "execution_count": 0,
      "outputs": [
        {
          "output_type": "stream",
          "text": [
            "{'name': 'Ted', 'age': 50, 'occupation': 'programmer', 'city': 'Seattle'}\n"
          ],
          "name": "stdout"
        }
      ]
    },
    {
      "metadata": {
        "id": "_fy1mRf2e1xR",
        "colab_type": "code",
        "outputId": "0fcb58a6-1d91-4741-f4ad-c3b1e605475f",
        "colab": {
          "base_uri": "https://localhost:8080/",
          "height": 35
        }
      },
      "cell_type": "code",
      "source": [
        "# Remove\n",
        "del person['age']\n",
        "print(person)"
      ],
      "execution_count": 0,
      "outputs": [
        {
          "output_type": "stream",
          "text": [
            "{'name': 'Ted', 'occupation': 'programmer', 'city': 'Seattle'}\n"
          ],
          "name": "stdout"
        }
      ]
    },
    {
      "metadata": {
        "id": "qV_8vpIGe6FX",
        "colab_type": "text"
      },
      "cell_type": "markdown",
      "source": [
        "read more about python dictionaries[here](https://www.w3schools.com/python/python_dictionaries.asp)."
      ]
    },
    {
      "metadata": {
        "id": "OMVAgJ05e-Nk",
        "colab_type": "text"
      },
      "cell_type": "markdown",
      "source": [
        "### Lists + Dicts "
      ]
    },
    {
      "metadata": {
        "id": "S-Sa2w4xe6YP",
        "colab_type": "code",
        "outputId": "63fc296f-9389-4648-ed63-d4c9d6a1604a",
        "colab": {
          "base_uri": "https://localhost:8080/",
          "height": 35
        }
      },
      "cell_type": "code",
      "source": [
        "# Access a dict inside a list:\n",
        "\n",
        "list = [{'a': 1, 'b': 2}, {'c': 3, 'd': 4}, {'e': 5, 'f': 6}]\n",
        "print(list[0]['b'])"
      ],
      "execution_count": 0,
      "outputs": [
        {
          "output_type": "stream",
          "text": [
            "2\n"
          ],
          "name": "stdout"
        }
      ]
    },
    {
      "metadata": {
        "id": "zHOKiBR3fGYI",
        "colab_type": "code",
        "outputId": "51e05383-67b8-44f8-8035-626255c93a3c",
        "colab": {
          "base_uri": "https://localhost:8080/",
          "height": 35
        }
      },
      "cell_type": "code",
      "source": [
        "# Access a list inside of a dict:\n",
        "d = {'a': 1, 'b': [\"hello\", \"hi\", \"howdy\"]}\n",
        "print(d['b'][0])"
      ],
      "execution_count": 0,
      "outputs": [
        {
          "output_type": "stream",
          "text": [
            "hello\n"
          ],
          "name": "stdout"
        }
      ]
    },
    {
      "metadata": {
        "id": "XwCyZqNbgPIa",
        "colab_type": "text"
      },
      "cell_type": "markdown",
      "source": [
        "### Challenge:\n",
        "- make a list `[]` containing your favorite foods.\n",
        "- update the list adding more item\n",
        "- remove the first item from the list\n",
        "\n",
        "- Make dictionary with values about your self.\n",
        "- update one of the values\n",
        "- add a new value\n",
        "- remove one of the values"
      ]
    },
    {
      "metadata": {
        "id": "DyiGBQrNgU-w",
        "colab_type": "text"
      },
      "cell_type": "markdown",
      "source": [
        "##### Solution:"
      ]
    },
    {
      "metadata": {
        "id": "-DNn6adxgPn-",
        "colab_type": "code",
        "colab": {}
      },
      "cell_type": "code",
      "source": [
        ""
      ],
      "execution_count": 0,
      "outputs": []
    },
    {
      "metadata": {
        "id": "JY8vHbArgYl9",
        "colab_type": "text"
      },
      "cell_type": "markdown",
      "source": [
        "## Comparison Operators:\n",
        "Comparison Operators are used quite frequently in programming. Its a great way to compare and use data.\n",
        "\n",
        "Again we won't cover ALL of the comparison operators in this workshop, but you can see a full list of them [here](https://docs.python.org/3/library/stdtypes.html#comparisons)\n",
        "\n",
        "- `==` Equal\n",
        "- `!=` Not Equal\n",
        "- `>` Greater Than\n",
        "- `>=` Greater Than or Equal\n",
        "- `<` Less Than\n",
        "- `<=` Less Than or Equal\n",
        "\n",
        "Example:\n",
        "\n",
        "`current_score >= highest_score`\n",
        "This would return a boolean value. Depending on the values of these variables this would return either `True` or `False`. Try it in your console using numbers instead of variables!"
      ]
    },
    {
      "metadata": {
        "id": "jNp-me_Jgd0C",
        "colab_type": "code",
        "outputId": "b09074d6-cb81-457f-abb4-d9b1c200c8c4",
        "colab": {
          "base_uri": "https://localhost:8080/",
          "height": 121
        }
      },
      "cell_type": "code",
      "source": [
        "print(8 == 8)\n",
        "print(8 != 8)\n",
        "print(8 > 2)\n",
        "print(8 >= 8)\n",
        "print(8 < 12)\n",
        "print(8 <= 8)"
      ],
      "execution_count": 0,
      "outputs": [
        {
          "output_type": "stream",
          "text": [
            "True\n",
            "False\n",
            "True\n",
            "True\n",
            "True\n",
            "True\n"
          ],
          "name": "stdout"
        }
      ]
    },
    {
      "metadata": {
        "id": "g2FVATrlgeU0",
        "colab_type": "text"
      },
      "cell_type": "markdown",
      "source": [
        "## Spacing\n",
        "most of the upcoming examples you'll see parts of the code indented.\n",
        "This lets python know when blocks of code begin & end. I'll explain as we go through examples. Just remember that spacing is important and it can cause issues with your code working."
      ]
    },
    {
      "metadata": {
        "id": "I2VCj1Wcghzy",
        "colab_type": "code",
        "colab": {}
      },
      "cell_type": "code",
      "source": [
        ""
      ],
      "execution_count": 0,
      "outputs": []
    },
    {
      "metadata": {
        "id": "iCT4TXkQgk0e",
        "colab_type": "text"
      },
      "cell_type": "markdown",
      "source": [
        "## Conditionals\n",
        "\n",
        "When writing a program you'll often want to check if data meets a certain condition or not. We can use conditionals to make decision about our data and create different outcomes\n",
        "\n",
        " In javascript you'll often use the `if` statement. This may be followed by `else if` or `else` depending on how many conditions need to be checked.\n",
        "\n",
        "Example:\n",
        "\n",
        "```\n",
        " if guess == answer:\n",
        "      message = \"You Win!\"\n",
        "  elif guess < answer:\n",
        "      message = \"Your guess is too low!\"\n",
        "  elif guess > answer:\n",
        "      message = \"your guess is too high!\";\n",
        "  else:\n",
        "    message = \"I think you entered something wrong...\"\n",
        "\n",
        "```\n"
      ]
    },
    {
      "metadata": {
        "id": "wSZF0X_-goXe",
        "colab_type": "code",
        "colab": {}
      },
      "cell_type": "code",
      "source": [
        "guess = 7\n",
        "answer = 5\n",
        "\n",
        "if guess == answer:\n",
        "  message = \"You Win!\"\n",
        "elif guess < answer:\n",
        "  message = \"Your guess is too low!\"\n",
        "elif guess > answer:\n",
        "  message = \"your guess is too high!\";\n",
        "else:\n",
        "    message = \"I think you entered something wrong...\"\n",
        "    \n",
        "print(message)"
      ],
      "execution_count": 0,
      "outputs": []
    },
    {
      "metadata": {
        "id": "gtvb7euOgor_",
        "colab_type": "text"
      },
      "cell_type": "markdown",
      "source": [
        "### Multiple Conditionals\n",
        "\n",
        "Use the keyword `and` or `or` between muliple conditionals. \n",
        "\n",
        "`or` if you want to run code when either condition is met\n",
        "\n",
        "`if i == 0 or i == 1:`\n",
        "\n",
        "`and` if you want to run the code when all conditions are met.\n",
        "\n",
        "`if i == 0 and x == 4:`\n"
      ]
    },
    {
      "metadata": {
        "id": "8KB9x65wgpGL",
        "colab_type": "code",
        "colab": {}
      },
      "cell_type": "code",
      "source": [
        "if guess == answer:\n",
        "  message = \"You Win!\""
      ],
      "execution_count": 0,
      "outputs": []
    },
    {
      "metadata": {
        "id": "y2zxg_elgrl5",
        "colab_type": "text"
      },
      "cell_type": "markdown",
      "source": [
        "### challenge\n",
        "\n",
        "- make a variable with with a numerical value. \n",
        "- using the `if`, `elif`, and `else` make your program print something different depending on the value in your variable."
      ]
    },
    {
      "metadata": {
        "id": "zt-FOebtgsB3",
        "colab_type": "code",
        "colab": {}
      },
      "cell_type": "code",
      "source": [
        ""
      ],
      "execution_count": 0,
      "outputs": []
    },
    {
      "metadata": {
        "id": "UM_gFmEpg1Ub",
        "colab_type": "text"
      },
      "cell_type": "markdown",
      "source": [
        "## Loops\n",
        "We're going to go over some of the basic loops in python, but yet again we're not going to cover everything, so you may want to read more about loops [here](https://www.learnpython.org/en/Loops).\n",
        "\n",
        "Loops are used when you want to repeat something. You can repeat the exact same thing, or change some variable and repeat the action again.\n",
        "\n",
        "the two common types of loops are `for` and `while`.\n",
        "`for` loops are often used to run a loop a specified amount of time.\n",
        "\n",
        "`while` loops are often used to run a loop indefinitely until certain criteria are met.\n",
        "\n"
      ]
    },
    {
      "metadata": {
        "id": "H6uTW8BWhUbt",
        "colab_type": "text"
      },
      "cell_type": "markdown",
      "source": [
        "For loops:"
      ]
    },
    {
      "metadata": {
        "id": "WoAZtp2Lg4RI",
        "colab_type": "code",
        "outputId": "b561cb65-fbc0-403d-dd1c-c33b41073ae8",
        "colab": {
          "base_uri": "https://localhost:8080/",
          "height": 104
        }
      },
      "cell_type": "code",
      "source": [
        "#This `for` loop will run 5 times, and print out the value of `x` to the console. \n",
        "\n",
        "for x in range(5):\n",
        "    print(x)"
      ],
      "execution_count": 0,
      "outputs": [
        {
          "output_type": "stream",
          "text": [
            "0\n",
            "1\n",
            "2\n",
            "3\n",
            "4\n"
          ],
          "name": "stdout"
        }
      ]
    },
    {
      "metadata": {
        "id": "cRRy74UxhApM",
        "colab_type": "text"
      },
      "cell_type": "markdown",
      "source": [
        "For loops are often used to loop through variables containing lists and dicts to get the individual values stored in them. We'll look at this soon!"
      ]
    },
    {
      "metadata": {
        "id": "yO_-BxeghLwg",
        "colab_type": "text"
      },
      "cell_type": "markdown",
      "source": [
        "read more on for loops [here](https://www.w3schools.com/python/python_for_loops.asp)"
      ]
    },
    {
      "metadata": {
        "id": "hgzxUhBshO4i",
        "colab_type": "text"
      },
      "cell_type": "markdown",
      "source": [
        "while loop:"
      ]
    },
    {
      "metadata": {
        "id": "J0u3jo0ShMI2",
        "colab_type": "code",
        "outputId": "b6f22e55-ee75-428f-849a-a9e89da2fa57",
        "colab": {
          "base_uri": "https://localhost:8080/",
          "height": 104
        }
      },
      "cell_type": "code",
      "source": [
        "count = 1\n",
        "while count <= 5:\n",
        "    print(count)\n",
        "    count += 1  # This is the same as count = count + 1"
      ],
      "execution_count": 0,
      "outputs": [
        {
          "output_type": "stream",
          "text": [
            "1\n",
            "2\n",
            "3\n",
            "4\n",
            "5\n"
          ],
          "name": "stdout"
        }
      ]
    },
    {
      "metadata": {
        "id": "GCwOE08Bhaxn",
        "colab_type": "text"
      },
      "cell_type": "markdown",
      "source": [
        "read more on while loops [here](https://www.w3schools.com/python/python_while_loops.asp)"
      ]
    },
    {
      "metadata": {
        "id": "n5vbjI_Vhe5j",
        "colab_type": "text"
      },
      "cell_type": "markdown",
      "source": [
        "### challenge\n",
        "[Fizzbuzz](https://en.wikipedia.org/wiki/Fizz_buzz) and variations of it is a popular interview question. \n",
        "\n",
        "\"From 1 to 100.\n",
        "\n",
        "For each multiple of 3, print \"Fizz\" instead of the number. \n",
        "\n",
        "For each multiple of 5, print \"Buzz\" instead of the number. \n",
        "\n",
        "For numbers which are multiples of both 3 and 5, print \"FizzBuzz\" instead of the number.\"\n",
        "\n",
        "Lets break it down and solve it together!\n"
      ]
    },
    {
      "metadata": {
        "id": "6UY4wED-hbKM",
        "colab_type": "code",
        "colab": {}
      },
      "cell_type": "code",
      "source": [
        "# Lets do fizzbuzz!\n",
        "# How should break down this problem and start?"
      ],
      "execution_count": 0,
      "outputs": []
    },
    {
      "metadata": {
        "id": "28hwCAdXhlGG",
        "colab_type": "code",
        "colab": {}
      },
      "cell_type": "code",
      "source": [
        ""
      ],
      "execution_count": 0,
      "outputs": []
    },
    {
      "metadata": {
        "id": "89O-nogVjDjE",
        "colab_type": "text"
      },
      "cell_type": "markdown",
      "source": [
        "## Iterating\n",
        "\n",
        "Now that we know about loops lets talk a bit about iteration! \n",
        "\n",
        "Many objects may have data we want to iterate through to do something with it. Common iterables: Strings, Lists, Dicts, tuples.\n",
        "\n"
      ]
    },
    {
      "metadata": {
        "id": "OoCjOrChjJCb",
        "colab_type": "code",
        "outputId": "962e0ab2-9c2f-4385-cd44-bbe676831e53",
        "colab": {
          "base_uri": "https://localhost:8080/",
          "height": 104
        }
      },
      "cell_type": "code",
      "source": [
        "# String\n",
        "\n",
        "word = \"hello\"\n",
        "\n",
        "for x in word:\n",
        "\tprint(x)"
      ],
      "execution_count": 0,
      "outputs": [
        {
          "output_type": "stream",
          "text": [
            "h\n",
            "e\n",
            "l\n",
            "l\n",
            "o\n"
          ],
          "name": "stdout"
        }
      ]
    },
    {
      "metadata": {
        "id": "Vew6y2sTjJ4R",
        "colab_type": "code",
        "outputId": "c206ca12-ecbc-4301-8bc9-0683bb4b9eaf",
        "colab": {
          "base_uri": "https://localhost:8080/",
          "height": 69
        }
      },
      "cell_type": "code",
      "source": [
        "#lists:\n",
        "\n",
        "tvshows = ['West World','Mr. Robot', 'Game of Thrones']\n",
        "\n",
        "for x in tvshows:\n",
        "\tprint(x)\n"
      ],
      "execution_count": 0,
      "outputs": [
        {
          "output_type": "stream",
          "text": [
            "West World\n",
            "Mr. Robot\n",
            "Game of Thrones\n"
          ],
          "name": "stdout"
        }
      ]
    },
    {
      "metadata": {
        "id": "FJQkzc2ijF5U",
        "colab_type": "code",
        "outputId": "1adff8c3-7692-416d-df25-a9482daf31c9",
        "colab": {
          "base_uri": "https://localhost:8080/",
          "height": 69
        }
      },
      "cell_type": "code",
      "source": [
        "#Dictionaries \n",
        "\n",
        "person =\t{\n",
        "  \"name\": \"Bob\",\n",
        "  \"age\": 50,\n",
        "  \"occupation\": 'programmer'\n",
        "}\n",
        "\n",
        "# get the values\n",
        "for x in person:\n",
        "\tprint(person[x])\n",
        "\t\n"
      ],
      "execution_count": 0,
      "outputs": [
        {
          "output_type": "stream",
          "text": [
            "Bob\n",
            "50\n",
            "programmer\n"
          ],
          "name": "stdout"
        }
      ]
    },
    {
      "metadata": {
        "id": "_lB6gbbrjdG4",
        "colab_type": "code",
        "outputId": "2f8b7bbb-bc8c-448d-8936-76b4688dbb1e",
        "colab": {
          "base_uri": "https://localhost:8080/",
          "height": 69
        }
      },
      "cell_type": "code",
      "source": [
        "# get the keys from dict\n",
        "for x in person:\n",
        "\tprint(x)\n",
        "\t"
      ],
      "execution_count": 0,
      "outputs": [
        {
          "output_type": "stream",
          "text": [
            "name\n",
            "age\n",
            "occupation\n"
          ],
          "name": "stdout"
        }
      ]
    },
    {
      "metadata": {
        "id": "PXROTy3njuWr",
        "colab_type": "text"
      },
      "cell_type": "markdown",
      "source": [
        "## Functions\n",
        "Reduce, Reuse, Recycle\n",
        "\n",
        "Functions make it easy to reuse code. If you find yourself repeating code you may want to turn it into a function!\n",
        "\n",
        "Example:\n",
        "This function takes in two arguments(a, b) and returns the value of them added together. \n"
      ]
    },
    {
      "metadata": {
        "id": "W1m5Brikjul6",
        "colab_type": "code",
        "colab": {}
      },
      "cell_type": "code",
      "source": [
        "def add(a, b):\n",
        "\tprint(a + b)"
      ],
      "execution_count": 0,
      "outputs": []
    },
    {
      "metadata": {
        "id": "gEbbFigOjyaz",
        "colab_type": "text"
      },
      "cell_type": "markdown",
      "source": [
        "to use the function call it by writing its name and open/close parenthesis(). With arguments passed inside the parenthesis():"
      ]
    },
    {
      "metadata": {
        "id": "kxTm3kQlj1PM",
        "colab_type": "code",
        "outputId": "b3224d7d-141a-4dbb-ebd4-5d25675aea2d",
        "colab": {
          "base_uri": "https://localhost:8080/",
          "height": 35
        }
      },
      "cell_type": "code",
      "source": [
        "add(5,5)\n"
      ],
      "execution_count": 0,
      "outputs": [
        {
          "output_type": "stream",
          "text": [
            "10\n"
          ],
          "name": "stdout"
        }
      ]
    },
    {
      "metadata": {
        "id": "ULxvC-tPkKhG",
        "colab_type": "code",
        "outputId": "46b0aded-2f42-4caf-d31f-fc6ee083210a",
        "colab": {
          "base_uri": "https://localhost:8080/",
          "height": 35
        }
      },
      "cell_type": "code",
      "source": [
        "add(2,5)"
      ],
      "execution_count": 0,
      "outputs": [
        {
          "output_type": "stream",
          "text": [
            "7\n"
          ],
          "name": "stdout"
        }
      ]
    },
    {
      "metadata": {
        "id": "G9KHuo0ykPFX",
        "colab_type": "text"
      },
      "cell_type": "markdown",
      "source": [
        "In this simple example you're not saving a ton of code, but imagine a function that uses many lines of code! \n"
      ]
    },
    {
      "metadata": {
        "id": "a686NzkEkTtC",
        "colab_type": "text"
      },
      "cell_type": "markdown",
      "source": [
        "### challenge\n",
        "\n",
        "Make our fizzbuzz solution a function that takes an input for the range of fizzbuzz"
      ]
    },
    {
      "metadata": {
        "id": "PyORRnJekP3C",
        "colab_type": "code",
        "colab": {}
      },
      "cell_type": "code",
      "source": [
        "# Here is our previous solution for fizzbuzz. \n",
        "# How would we make it a function?\n",
        "# Lets make it so we can pass a value to the range!\n",
        "\n",
        "\n",
        "for i in range(1,100):\n",
        "    if i%3==0 and i%5==0:\n",
        "        print(\"FizzBuzz\")\n",
        "    elif i%3==0:\n",
        "        print(\"Fizz\")\n",
        "    elif i%5==0:\n",
        "        print(\"Buzz\")\n",
        "    else:\n",
        "        print(i)"
      ],
      "execution_count": 0,
      "outputs": []
    },
    {
      "metadata": {
        "id": "12BsrDnolTZk",
        "colab_type": "code",
        "colab": {}
      },
      "cell_type": "code",
      "source": [
        ""
      ],
      "execution_count": 0,
      "outputs": []
    },
    {
      "metadata": {
        "id": "-U7r9VqilUF-",
        "colab_type": "text"
      },
      "cell_type": "markdown",
      "source": [
        "### Guessing game\n"
      ]
    },
    {
      "metadata": {
        "id": "HOEBpBD3lX-D",
        "colab_type": "code",
        "colab": {}
      },
      "cell_type": "code",
      "source": [
        "import random\n",
        "\n",
        "number = random.randint(1, 10)\n",
        "guess_count = 1\n",
        "guesses = 5\n",
        "\n",
        "\n",
        "# start while \n",
        "while True:\n",
        "  \n",
        "  guess = int(input(\"Guess the random number between 1 & 10: \"))\n",
        "  \n",
        "  if guess == number:\n",
        "    print(\"You got it! Great job!\")\n",
        "    break\n",
        "  \n",
        "  elif guess_count == 5:\n",
        "    print(\"you lose\")\n",
        "    break\n",
        "\n",
        "  elif guess < number:\n",
        "    print(\"Try something higher... you have {} guesses remaining!\".format(guesses - guess_count))\n",
        "    guess_count = guess_count + 1\n",
        "   \n",
        "\n",
        "  elif guess > number:\n",
        "    \n",
        "    print(\"Try something lower... you have {} guesses remaining!\".format(guesses - guess_count))\n",
        "    guess_count = guess_count + 1\n",
        "    \n",
        "    \n",
        "    \n",
        "\n",
        "    \n"
      ],
      "execution_count": 0,
      "outputs": []
    },
    {
      "metadata": {
        "id": "q-LnqcvwrAHn",
        "colab_type": "text"
      },
      "cell_type": "markdown",
      "source": [
        "What are some ideas for improvements? \n",
        "\n",
        "- Exit on command\n",
        "- data validation\n",
        "- input the number range from user\n",
        "- output grammar depending on number of tries"
      ]
    },
    {
      "metadata": {
        "id": "glnnjNWNrUK2",
        "colab_type": "text"
      },
      "cell_type": "markdown",
      "source": [
        "### Keep learning!\n",
        "\n",
        "\n",
        "------\n",
        "\n",
        "Learn more Python and much more with Galvanize Data Science Premium Prep! Currently free if you sign up now! [http://bit.ly/2u0cahU](http://bit.ly/2u0cahU)\n",
        "\n",
        "Live one-on-one staff support during class hours\n",
        "\n",
        "Expert-led Python, statistics and probability curriculum\n",
        "\n",
        "Group feedback on course exercises\n",
        "\n",
        "Personalized progress updates\n",
        "[http://bit.ly/2u0cahU](http://bit.ly/2u0cahU)\n",
        "\n",
        "-------\n",
        "\n",
        "\n",
        "[PuPPy](https://www.meetup.com/PSPPython/) is an awesome python group in Seattle! \n",
        "\n",
        "More learning resources:\n",
        "\n",
        "- [Galvanize Data Science Prep Course](https://www.galvanize.com/data-science-prep) - FREE | study at your own pace\n",
        "\n",
        "- [w3schools](https://www.w3schools.com/python/default.asp) | Free\n",
        "\n",
        "- [Datacamp](https://www.datacamp.com/courses/intro-to-python-for-data-science) | Free\n",
        "\n",
        "- [codecademy: learn-python](https://www.codecademy.com/learn/learn-python) | Free\n",
        "\n",
        "\n",
        "- [Treehouse: Learn Python Track](https://teamtreehouse.com/tracks/learn-python) | Paid\n",
        "\n",
        "- [Udacity Programming Foundations with Python](https://www.udacity.com/course/programming-foundations-with-python--ud036) | Free"
      ]
    },
    {
      "metadata": {
        "id": "tiD_VqIgwD85",
        "colab_type": "text"
      },
      "cell_type": "markdown",
      "source": [
        "## [<< back to git repo >> ](https://github.com/sagecodes/intro-to-python)"
      ]
    }
  ]
}